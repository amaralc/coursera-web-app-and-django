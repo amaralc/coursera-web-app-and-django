{
 "metadata": {
  "language_info": {
   "codemirror_mode": {
    "name": "ipython",
    "version": 3
   },
   "file_extension": ".py",
   "mimetype": "text/x-python",
   "name": "python",
   "nbconvert_exporter": "python",
   "pygments_lexer": "ipython3",
   "version": "3.8.4-final"
  },
  "orig_nbformat": 2,
  "kernelspec": {
   "name": "python38432bitce050209dcac4691bb5f03b9903bbd9c",
   "display_name": "Python 3.8.4 32-bit"
  }
 },
 "nbformat": 4,
 "nbformat_minor": 2,
 "cells": [
  {
   "cell_type": "markdown",
   "metadata": {},
   "source": [
    "# The world's Simplest Web Server\n",
    "https://www.coursera.org/learn/django-database-web-apps/lecture/vNzDJ/building-a-simple-http-server-in-python"
   ]
  },
  {
   "cell_type": "code",
   "execution_count": 2,
   "metadata": {},
   "outputs": [],
   "source": [
    "# Importa tudo da biblioteca socket\n",
    "from socket import *"
   ]
  },
  {
   "cell_type": "code",
   "execution_count": 3,
   "metadata": {},
   "outputs": [],
   "source": [
    "# Define servidor\n",
    "def createServer():\n",
    "    # Cria server socket (end point, analogo ao telefone)\n",
    "    serversocket = socket(AF_INET, SOCK_STREAM)\n",
    "\n",
    "    # \n",
    "    try:\n",
    "        # Torna socket disponivel na porta 9000 (servico disponivel no 'ramal' 9000 deste servidor)\n",
    "        # Obs.: apenas um software pode estar 'ouvindo' em cada porta (ou 'ramal')\n",
    "        serversocket.bind(('localhost',9000))\n",
    "\n",
    "        # Escuta ate 5 requisicoes (se estiver atendendo a uma, deixe 4 na fila)\n",
    "        serversocket.listen(5)\n",
    "\n",
    "        #\n",
    "        while(1):\n",
    "\n",
    "            # Aplicacao pronta para atender a requisicoes e aguarda ate chegar uma requisicao\n",
    "            (clientsocket, adress) = serversocket.accept()\n",
    "\n",
    "            # Quando alguem faz uma requisicao e accept funcionou ('fone call has been made')\n",
    "            # Recebe e decodifica de UTF-8 para Unicode\n",
    "            rd = clientsocket.recv(5000).decode()\n",
    "\n",
    "            # Divide partes da requisicao por 'new lines'\n",
    "            pieces = rd.split(\"\\n\")\n",
    "\n",
    "            # Imprime prova de que recebeu as partes\n",
    "            if( len (pieces) > 0 ): print(pieces[0])\n",
    "            \n",
    "            # Constroi resposta (conforme protocolo definido na RFC 2616)\n",
    "            data = \"HTTP/1.1 200 OK \\r\\n\"\n",
    "            data += \"Content-Type: text/html; charset=utf-8\\r\\n\"\n",
    "            data += \"\\r\\n\"\n",
    "            data += \"<html><body>Hello World</body></html>\\r\\n\\r\\n\"\n",
    "\n",
    "            # Envia dados condificados como UTF-8\n",
    "            clientsocket.sendall(data.encode())\n",
    "\n",
    "            # Assim que enviar a mensagem, encerra conexao (para os dois lados da conexao)\n",
    "            clientsocket.shutdown(SHUT_WR)\n",
    "\n",
    "    except KeyboardInterrupt:\n",
    "        print(\"\\nShutting down...\\n\");\n",
    "    except Exception as exc:\n",
    "        print(\"Error:\\n\");\n",
    "        print(exc)\n",
    "\n",
    "    serversocket.close()"
   ]
  },
  {
   "cell_type": "code",
   "execution_count": null,
   "metadata": {},
   "outputs": [],
   "source": [
    "# Cria servidor\n",
    "print('Access http://localhost:9000')\n",
    "createServer()"
   ]
  }
 ]
}